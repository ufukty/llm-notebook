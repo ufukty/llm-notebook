{
 "cells": [
  {
   "cell_type": "markdown",
   "id": "5a131659",
   "metadata": {},
   "source": [
    "# Chapter 1: Transformer Models\n",
    "\n",
    "[Source](https://huggingface.co/learn/llm-course/chapter1/2)\n",
    "\n",
    "## NLP\n",
    "\n",
    "- Classifying whole sentences\n",
    "- Classifying each word in a sentence\n",
    "- Generating text content\n",
    "- Extracting an answer from a text\n",
    "- Generating a new sentence from an input text\n",
    "\n",
    "## LLMs\n",
    "\n",
    "- Scale\n",
    "- Doesn't require task-specific training\n",
    "- Can learn from examples provided in the prompt\n",
    "- Unprojected abilities emerge as models grow\n",
    "\n",
    "**Cons**\n",
    "\n",
    "- They can generate incorrect information confidently (Hallucinations)\n",
    "- Lack true understanding of the world and operate purely on statistical patterns\n",
    "- Training data bias\n",
    "- Limited context windows\n",
    "- Computationally expensive\n",
    "\n",
    "## Transformers\n",
    "\n",
    "[Source](https://huggingface.co/learn/llm-course/chapter1/3)"
   ]
  },
  {
   "cell_type": "code",
   "execution_count": null,
   "id": "e52030ba",
   "metadata": {},
   "outputs": [],
   "source": [
    "from transformers import pipeline\n",
    "\n",
    "classifier = pipeline(\"sentiment-analysis\")\n",
    "classifier(\"I've been waiting for a HuggingFace course my whole life.\")"
   ]
  }
 ],
 "metadata": {
  "kernelspec": {
   "display_name": ".venv",
   "language": "python",
   "name": "python3"
  },
  "language_info": {
   "codemirror_mode": {
    "name": "ipython",
    "version": 3
   },
   "file_extension": ".py",
   "mimetype": "text/x-python",
   "name": "python",
   "nbconvert_exporter": "python",
   "pygments_lexer": "ipython3"
  }
 },
 "nbformat": 4,
 "nbformat_minor": 5
}
